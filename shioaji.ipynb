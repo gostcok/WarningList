{
 "cells": [
  {
   "cell_type": "code",
   "execution_count": 9,
   "id": "73ac328c",
   "metadata": {},
   "outputs": [],
   "source": [
    "import shioaji as sj\n",
    "from dotenv import load_dotenv\n",
    "import os\n",
    "import pandas as pd\n",
    "from datetime import datetime, timedelta\n",
    "import sqlite3"
   ]
  },
  {
   "cell_type": "code",
   "execution_count": 2,
   "id": "d2876392",
   "metadata": {},
   "outputs": [
    {
     "name": "stdout",
     "output_type": "stream",
     "text": [
      "Response Code: 0 | Event Code: 0 | Info: host '210.59.255.161:80', hostname '210.59.255.161:80' IP 210.59.255.161:80 (host 1 of 1) (host connection attempt 1 of 1) (total connection attempt 1 of 1) | Event: Session up\n"
     ]
    },
    {
     "name": "stdout",
     "output_type": "stream",
     "text": [
      "Response Code: 200 | Event Code: 16 | Info: APISUB/V1/SYS/CONTRACT | Event: Subscribe or Unsubscribe ok\n"
     ]
    }
   ],
   "source": [
    "load_dotenv()\n",
    "\n",
    "def get_api(simulation: bool = True) -> sj.Shioaji:\n",
    "    api = sj.Shioaji(simulation=simulation)\n",
    "    api.login(\n",
    "        api_key=os.environ[\"API_KEY\"],\n",
    "        secret_key=os.environ[\"SECRET_KEY\"],\n",
    "    )\n",
    "    return api\n",
    "api=get_api()  # 自動登入"
   ]
  },
  {
   "cell_type": "code",
   "execution_count": 112,
   "id": "f751c3f2",
   "metadata": {},
   "outputs": [],
   "source": [
    "stock_code='6515'\n",
    "\n",
    "kbars = api.kbars(\n",
    "    contract=api.Contracts.Stocks[stock_code], \n",
    "    start=(datetime.now() - timedelta(days=20)).strftime(\"%Y-%m-%d\"), \n",
    "    end=datetime.now().strftime(\"%Y-%m-%d\"), \n",
    ")"
   ]
  },
  {
   "cell_type": "code",
   "execution_count": 119,
   "id": "19650602",
   "metadata": {},
   "outputs": [],
   "source": [
    "df = pd.DataFrame({**kbars})\n",
    "df.ts = pd.to_datetime(df.ts)\n",
    "\n",
    "# df\n",
    "df = df.groupby(df.ts.dt.date).agg({ \"Open\": \"first\", \"High\": \"max\", \"Low\": \"min\", \"Close\": \"last\", \"Volume\": \"sum\", \"Amount\": \"sum\" })\n",
    "df.drop(columns=[\"Open\", \"High\", \"Low\", 'Amount'], inplace=True)\n",
    "df['code']=stock_code\n",
    "df['pct'] = df['Close'].pct_change()\n",
    "df['6pct'] = df['pct'].rolling(6).sum()\n",
    "\n",
    "df['iterm1_1'] = (df['6pct']*100 > 32).rolling(2).sum() >= 2\n",
    "df['iterm1_2'] = ((df['6pct']*100 > 25).rolling(2).sum() >= 2) & (df['Close'] - df['Close'].shift(5) >=50)\n",
    "df['target_pct_1(%)'] = (32-df['pct'].rolling(5).sum()*100).where(df['iterm1_1'])\n",
    "df['target_pct_2_v1(%)'] = (25-df['pct'].rolling(5).sum()*100).where(df['iterm1_2'])\n",
    "df['target_pct_2_v2($)'] = (df['Close'].shift(5) + 50).where(df['iterm1_2'])\n",
    "df['target_info1_1'] = df.apply(\n",
    "    lambda row: '一定處置' if pd.notna(row['target_pct_1(%)']) and row['target_pct_1(%)'] < -10\n",
    "                else f\"漲超過{row['target_pct_1(%)']:.2f}%以上,價位:{row['Close']*(1+row['target_pct_1(%)']/100):.2f}\"\n",
    "                if pd.notna(row['target_pct_1(%)']) else None,\n",
    "    axis=1\n",
    ")\n",
    "\n",
    "df['target_info1_2'] = df.apply(\n",
    "    lambda row: '一定處置' if (pd.notna(row['target_pct_2_v1(%)'])) and (row['target_pct_2_v1(%)'] < -10) and (row['target_pct_2_v2($)'] < row['Close']*0.9 )\n",
    "                else f\"漲超過{row['target_pct_2_v1(%)']:.2f}%以上,價位:{max(row['target_pct_2_v2($)'],row['Close']*(1+row['target_pct_2_v1(%)']/100)):.2f}\"\n",
    "                if pd.notna(row['target_pct_2_v1(%)']) else None,\n",
    "    axis=1\n",
    ")\n",
    "# df[['Close','6pct','iterm1_1','iterm1_2','target_pct_2_v1(%)','target_pct_2_v2($)','target_info1_1','target_info1_2']]\n",
    "df=df[df['iterm1_1'] | df['iterm1_2']][['code','target_info1_1','target_info1_2']]"
   ]
  },
  {
   "cell_type": "code",
   "execution_count": 122,
   "id": "3afee3f2",
   "metadata": {},
   "outputs": [],
   "source": [
    "conn = sqlite3.connect(\"target_info.db\")\n",
    "df.to_sql(\"target_info\", conn, if_exists=\"replace\", index=True)\n",
    "conn.close()"
   ]
  },
  {
   "cell_type": "code",
   "execution_count": 123,
   "id": "77134209",
   "metadata": {},
   "outputs": [
    {
     "data": {
      "application/vnd.microsoft.datawrangler.viewer.v0+json": {
       "columns": [
        {
         "name": "index",
         "rawType": "int64",
         "type": "integer"
        },
        {
         "name": "ts",
         "rawType": "object",
         "type": "string"
        },
        {
         "name": "code",
         "rawType": "object",
         "type": "string"
        },
        {
         "name": "target_info1_1",
         "rawType": "object",
         "type": "string"
        },
        {
         "name": "target_info1_2",
         "rawType": "object",
         "type": "string"
        }
       ],
       "ref": "4bca6034-94f9-4d0f-aa6f-5211e349e3e5",
       "rows": [
        [
         "0",
         "2025-09-02",
         "6515",
         "漲超過0.88%以上,價位:1548.46",
         "漲超過-6.12%以上,價位:1441.01"
        ],
        [
         "1",
         "2025-09-03",
         "6515",
         "漲超過8.57%以上,價位:1699.15",
         "漲超過1.57%以上,價位:1589.60"
        ]
       ],
       "shape": {
        "columns": 4,
        "rows": 2
       }
      },
      "text/html": [
       "<div>\n",
       "<style scoped>\n",
       "    .dataframe tbody tr th:only-of-type {\n",
       "        vertical-align: middle;\n",
       "    }\n",
       "\n",
       "    .dataframe tbody tr th {\n",
       "        vertical-align: top;\n",
       "    }\n",
       "\n",
       "    .dataframe thead th {\n",
       "        text-align: right;\n",
       "    }\n",
       "</style>\n",
       "<table border=\"1\" class=\"dataframe\">\n",
       "  <thead>\n",
       "    <tr style=\"text-align: right;\">\n",
       "      <th></th>\n",
       "      <th>ts</th>\n",
       "      <th>code</th>\n",
       "      <th>target_info1_1</th>\n",
       "      <th>target_info1_2</th>\n",
       "    </tr>\n",
       "  </thead>\n",
       "  <tbody>\n",
       "    <tr>\n",
       "      <th>0</th>\n",
       "      <td>2025-09-02</td>\n",
       "      <td>6515</td>\n",
       "      <td>漲超過0.88%以上,價位:1548.46</td>\n",
       "      <td>漲超過-6.12%以上,價位:1441.01</td>\n",
       "    </tr>\n",
       "    <tr>\n",
       "      <th>1</th>\n",
       "      <td>2025-09-03</td>\n",
       "      <td>6515</td>\n",
       "      <td>漲超過8.57%以上,價位:1699.15</td>\n",
       "      <td>漲超過1.57%以上,價位:1589.60</td>\n",
       "    </tr>\n",
       "  </tbody>\n",
       "</table>\n",
       "</div>"
      ],
      "text/plain": [
       "           ts  code         target_info1_1          target_info1_2\n",
       "0  2025-09-02  6515  漲超過0.88%以上,價位:1548.46  漲超過-6.12%以上,價位:1441.01\n",
       "1  2025-09-03  6515  漲超過8.57%以上,價位:1699.15   漲超過1.57%以上,價位:1589.60"
      ]
     },
     "execution_count": 123,
     "metadata": {},
     "output_type": "execute_result"
    }
   ],
   "source": [
    "target_info= pd.read_sql(\"SELECT * FROM target_info\", sqlite3.connect(\"target_info.db\"))\n",
    "target_info"
   ]
  },
  {
   "cell_type": "code",
   "execution_count": null,
   "id": "a763eca5",
   "metadata": {},
   "outputs": [],
   "source": []
  }
 ],
 "metadata": {
  "kernelspec": {
   "display_name": "Python 3",
   "language": "python",
   "name": "python3"
  },
  "language_info": {
   "codemirror_mode": {
    "name": "ipython",
    "version": 3
   },
   "file_extension": ".py",
   "mimetype": "text/x-python",
   "name": "python",
   "nbconvert_exporter": "python",
   "pygments_lexer": "ipython3",
   "version": "3.11.0"
  }
 },
 "nbformat": 4,
 "nbformat_minor": 5
}
