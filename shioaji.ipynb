{
 "cells": [
  {
   "cell_type": "code",
   "execution_count": 1,
   "id": "73ac328c",
   "metadata": {},
   "outputs": [
    {
     "name": "stderr",
     "output_type": "stream",
     "text": [
      "\u001b[32m2025-09-09 10:37:00.998\u001b[0m | \u001b[33m\u001b[1mWARNING \u001b[0m | \u001b[36mimportlib._bootstrap\u001b[0m:\u001b[36m_call_with_frames_removed\u001b[0m:\u001b[36m241\u001b[0m - \u001b[33m\u001b[1mOptional: pip install shioaji[speed] or uv add shioaji --extra speed for better performance.\u001b[0m\n"
     ]
    }
   ],
   "source": [
    "import shioaji as sj\n",
    "from dotenv import load_dotenv\n",
    "import os\n",
    "import pandas as pd\n",
    "from datetime import datetime, timedelta\n",
    "import sqlite3"
   ]
  },
  {
   "cell_type": "code",
   "execution_count": 2,
   "id": "d2876392",
   "metadata": {},
   "outputs": [
    {
     "name": "stdout",
     "output_type": "stream",
     "text": [
      "Response Code: 0 | Event Code: 0 | Info: host '210.59.255.161:80', hostname '210.59.255.161:80' IP 210.59.255.161:80 (host 1 of 1) (host connection attempt 1 of 1) (total connection attempt 1 of 1) | Event: Session up\n"
     ]
    },
    {
     "name": "stdout",
     "output_type": "stream",
     "text": [
      "Response Code: 200 | Event Code: 16 | Info: APISUB/V1/SYS/CONTRACT | Event: Subscribe or Unsubscribe ok\n"
     ]
    }
   ],
   "source": [
    "load_dotenv()\n",
    "\n",
    "def get_api(simulation: bool = True) -> sj.Shioaji:\n",
    "    api = sj.Shioaji(simulation=simulation)\n",
    "    api.login(\n",
    "        api_key=os.environ[\"API_KEY\"],\n",
    "        secret_key=os.environ[\"SECRET_KEY\"],\n",
    "    )\n",
    "    return api\n",
    "api=get_api()  # 自動登入"
   ]
  },
  {
   "cell_type": "code",
   "execution_count": 3,
   "id": "f751c3f2",
   "metadata": {},
   "outputs": [],
   "source": [
    "def convert_date() : \n",
    "    date = datetime.now()\n",
    "    if date.hour<=19 : \n",
    "        date = date - timedelta(1)\n",
    "    return date\n",
    "\n",
    "def get_kbar(stock_code) :\n",
    "    kbars = api.kbars(\n",
    "        contract=api.Contracts.Stocks[stock_code], \n",
    "        start=(datetime.now() - timedelta(days=200)).strftime(\"%Y-%m-%d\"), \n",
    "        end=convert_date().strftime(\"%Y-%m-%d\"), \n",
    "    )\n",
    "    \n",
    "    return kbars\n"
   ]
  },
  {
   "cell_type": "markdown",
   "id": "beac9776",
   "metadata": {},
   "source": [
    "# 第一款"
   ]
  },
  {
   "cell_type": "code",
   "execution_count": 73,
   "id": "e94064f3",
   "metadata": {},
   "outputs": [
    {
     "data": {
      "application/vnd.microsoft.datawrangler.viewer.v0+json": {
       "columns": [
        {
         "name": "ts",
         "rawType": "object",
         "type": "unknown"
        },
        {
         "name": "target_info1_1",
         "rawType": "object",
         "type": "string"
        },
        {
         "name": "target_info1_2",
         "rawType": "object",
         "type": "string"
        }
       ],
       "ref": "0d777c43-9f2f-40ae-8138-0e8ff907a72a",
       "rows": [
        [
         "2025-09-02",
         "漲超過0.88%以上,價位:1548.46",
         "漲超過-6.12%以上,價位:1300.00"
        ]
       ],
       "shape": {
        "columns": 2,
        "rows": 1
       }
      },
      "text/html": [
       "<div>\n",
       "<style scoped>\n",
       "    .dataframe tbody tr th:only-of-type {\n",
       "        vertical-align: middle;\n",
       "    }\n",
       "\n",
       "    .dataframe tbody tr th {\n",
       "        vertical-align: top;\n",
       "    }\n",
       "\n",
       "    .dataframe thead th {\n",
       "        text-align: right;\n",
       "    }\n",
       "</style>\n",
       "<table border=\"1\" class=\"dataframe\">\n",
       "  <thead>\n",
       "    <tr style=\"text-align: right;\">\n",
       "      <th></th>\n",
       "      <th>target_info1_1</th>\n",
       "      <th>target_info1_2</th>\n",
       "    </tr>\n",
       "    <tr>\n",
       "      <th>ts</th>\n",
       "      <th></th>\n",
       "      <th></th>\n",
       "    </tr>\n",
       "  </thead>\n",
       "  <tbody>\n",
       "    <tr>\n",
       "      <th>2025-09-02</th>\n",
       "      <td>漲超過0.88%以上,價位:1548.46</td>\n",
       "      <td>漲超過-6.12%以上,價位:1300.00</td>\n",
       "    </tr>\n",
       "  </tbody>\n",
       "</table>\n",
       "</div>"
      ],
      "text/plain": [
       "                   target_info1_1          target_info1_2\n",
       "ts                                                       \n",
       "2025-09-02  漲超過0.88%以上,價位:1548.46  漲超過-6.12%以上,價位:1300.00"
      ]
     },
     "execution_count": 73,
     "metadata": {},
     "output_type": "execute_result"
    }
   ],
   "source": [
    "stock_code='6515'\n",
    "kbars=get_kbar(stock_code)\n",
    "\n",
    "df = pd.DataFrame({**kbars})\n",
    "df.ts = pd.to_datetime(df.ts)\n",
    "# df\n",
    "df = df.groupby(df.ts.dt.date).agg({ \"Open\": \"first\", \"High\": \"max\", \"Low\": \"min\", \"Close\": \"last\", \"Volume\": \"sum\", \"Amount\": \"sum\" })\n",
    "df.drop(columns=[\"Open\", \"High\", \"Low\", 'Amount'], inplace=True)\n",
    "df['code']=stock_code\n",
    "df['pct'] = df['Close'].pct_change()\n",
    "df['6pct'] = df['pct'].rolling(6).sum()\n",
    "\n",
    "iterm1_1 = (df['6pct']*100 > 32)\n",
    "iterm1_2 = (df['6pct']*100 > 25) & (df['Close'] - df['Close'].shift(5) >=50)\n",
    "\n",
    "df['notice']= iterm1_1 | iterm1_2 \n",
    "df['pre_punished'] = (df['notice'].rolling(2).sum()==2) & (df['notice'].rolling(3).sum()!=3)\n",
    "\n",
    "df['target_pct1_1(%)'] = (32-df['pct'].rolling(5).sum()*100).where(df['pre_punished'])\n",
    "df['target_pct1_2_v1(%)'] = (25-df['pct'].rolling(5).sum()*100).where(df['pre_punished'])\n",
    "df['target_pct1_2_v2($)'] = (df['Close'].shift(4) + 50).where(df['pre_punished'])\n",
    "\n",
    "df['target_info1_1'] = df.apply(\n",
    "    lambda row: '一定處置' if pd.notna(row['target_pct1_1(%)']) and row['target_pct1_1(%)'] < -10\n",
    "                else f\"漲超過{row['target_pct1_1(%)']:.2f}%以上,價位:{row['Close']*(1+row['target_pct1_1(%)']/100):.2f}\"\n",
    "                if pd.notna(row['target_pct1_1(%)']) else None,\n",
    "    axis=1\n",
    ")\n",
    "\n",
    "df['target_info1_2'] = df.apply(\n",
    "    lambda row: '一定處置' if (pd.notna(row['target_pct1_2_v1(%)'])) and (row['target_pct1_2_v1(%)'] < -10) and (row['target_pct1_2_v2($)'] < row['Close']*0.9 )\n",
    "                else f\"漲超過{row['target_pct1_2_v1(%)']:.2f}%以上,價位:{max(row['target_pct1_2_v2($)'],row['Close']*(1+row['target_pct1_2_v1(%)']/100)):.2f}\"\n",
    "                if pd.notna(row['target_pct1_2_v1(%)']) else None,\n",
    "    axis=1\n",
    ")\n",
    "\n",
    "df = df[df['pre_punished']][['target_info1_1','target_info1_2']]\n",
    "df"
   ]
  },
  {
   "cell_type": "markdown",
   "id": "d41758e0",
   "metadata": {},
   "source": [
    "# 第二款"
   ]
  },
  {
   "cell_type": "code",
   "execution_count": 80,
   "id": "2b4cccd1",
   "metadata": {},
   "outputs": [
    {
     "data": {
      "application/vnd.microsoft.datawrangler.viewer.v0+json": {
       "columns": [
        {
         "name": "ts",
         "rawType": "object",
         "type": "unknown"
        },
        {
         "name": "target_info2(%)",
         "rawType": "object",
         "type": "string"
        },
        {
         "name": "target_info2($)",
         "rawType": "object",
         "type": "string"
        }
       ],
       "ref": "13cf1265-96df-48db-94f0-aad15e8fff80",
       "rows": [
        [
         "2025-07-11",
         "漲超過3.90%以上",
         "價位:149.00"
        ],
        [
         "2025-07-14",
         "漲超過-20.41%以上",
         "價位:154.00"
        ],
        [
         "2025-07-15",
         "漲超過-23.97%以上",
         "價位:160.00"
        ],
        [
         "2025-07-18",
         "漲超過-7.46%以上",
         "價位:161.00"
        ],
        [
         "2025-07-21",
         "漲超過-10.61%以上",
         "價位:166.50"
        ],
        [
         "2025-07-22",
         "漲超過-6.44%以上",
         "價位:170.00"
        ],
        [
         "2025-07-23",
         "漲超過-10.56%以上",
         "價位:172.00"
        ],
        [
         "2025-07-28",
         "漲超過-14.59%以上",
         "價位:169.50"
        ],
        [
         "2025-08-01",
         "漲超過-12.54%以上",
         "價位:187.00"
        ],
        [
         "2025-08-11",
         "漲超過-13.22%以上",
         "價位:200.00"
        ],
        [
         "2025-08-13",
         "漲超過-78.38%以上",
         "價位:201.00"
        ],
        [
         "2025-08-15",
         "漲超過-88.93%以上",
         "價位:212.50"
        ],
        [
         "2025-08-18",
         "漲超過-74.88%以上",
         "價位:216.00"
        ],
        [
         "2025-08-21",
         "漲超過-90.08%以上",
         "價位:226.50"
        ],
        [
         "2025-08-27",
         "漲超過-55.12%以上",
         "價位:210.50"
        ],
        [
         "2025-08-29",
         "漲超過-54.16%以上",
         "價位:213.00"
        ],
        [
         "2025-09-03",
         "漲超過-14.13%以上",
         "價位:196.00"
        ]
       ],
       "shape": {
        "columns": 2,
        "rows": 17
       }
      },
      "text/html": [
       "<div>\n",
       "<style scoped>\n",
       "    .dataframe tbody tr th:only-of-type {\n",
       "        vertical-align: middle;\n",
       "    }\n",
       "\n",
       "    .dataframe tbody tr th {\n",
       "        vertical-align: top;\n",
       "    }\n",
       "\n",
       "    .dataframe thead th {\n",
       "        text-align: right;\n",
       "    }\n",
       "</style>\n",
       "<table border=\"1\" class=\"dataframe\">\n",
       "  <thead>\n",
       "    <tr style=\"text-align: right;\">\n",
       "      <th></th>\n",
       "      <th>target_info2(%)</th>\n",
       "      <th>target_info2($)</th>\n",
       "    </tr>\n",
       "    <tr>\n",
       "      <th>ts</th>\n",
       "      <th></th>\n",
       "      <th></th>\n",
       "    </tr>\n",
       "  </thead>\n",
       "  <tbody>\n",
       "    <tr>\n",
       "      <th>2025-07-11</th>\n",
       "      <td>漲超過3.90%以上</td>\n",
       "      <td>價位:149.00</td>\n",
       "    </tr>\n",
       "    <tr>\n",
       "      <th>2025-07-14</th>\n",
       "      <td>漲超過-20.41%以上</td>\n",
       "      <td>價位:154.00</td>\n",
       "    </tr>\n",
       "    <tr>\n",
       "      <th>2025-07-15</th>\n",
       "      <td>漲超過-23.97%以上</td>\n",
       "      <td>價位:160.00</td>\n",
       "    </tr>\n",
       "    <tr>\n",
       "      <th>2025-07-18</th>\n",
       "      <td>漲超過-7.46%以上</td>\n",
       "      <td>價位:161.00</td>\n",
       "    </tr>\n",
       "    <tr>\n",
       "      <th>2025-07-21</th>\n",
       "      <td>漲超過-10.61%以上</td>\n",
       "      <td>價位:166.50</td>\n",
       "    </tr>\n",
       "    <tr>\n",
       "      <th>2025-07-22</th>\n",
       "      <td>漲超過-6.44%以上</td>\n",
       "      <td>價位:170.00</td>\n",
       "    </tr>\n",
       "    <tr>\n",
       "      <th>2025-07-23</th>\n",
       "      <td>漲超過-10.56%以上</td>\n",
       "      <td>價位:172.00</td>\n",
       "    </tr>\n",
       "    <tr>\n",
       "      <th>2025-07-28</th>\n",
       "      <td>漲超過-14.59%以上</td>\n",
       "      <td>價位:169.50</td>\n",
       "    </tr>\n",
       "    <tr>\n",
       "      <th>2025-08-01</th>\n",
       "      <td>漲超過-12.54%以上</td>\n",
       "      <td>價位:187.00</td>\n",
       "    </tr>\n",
       "    <tr>\n",
       "      <th>2025-08-11</th>\n",
       "      <td>漲超過-13.22%以上</td>\n",
       "      <td>價位:200.00</td>\n",
       "    </tr>\n",
       "    <tr>\n",
       "      <th>2025-08-13</th>\n",
       "      <td>漲超過-78.38%以上</td>\n",
       "      <td>價位:201.00</td>\n",
       "    </tr>\n",
       "    <tr>\n",
       "      <th>2025-08-15</th>\n",
       "      <td>漲超過-88.93%以上</td>\n",
       "      <td>價位:212.50</td>\n",
       "    </tr>\n",
       "    <tr>\n",
       "      <th>2025-08-18</th>\n",
       "      <td>漲超過-74.88%以上</td>\n",
       "      <td>價位:216.00</td>\n",
       "    </tr>\n",
       "    <tr>\n",
       "      <th>2025-08-21</th>\n",
       "      <td>漲超過-90.08%以上</td>\n",
       "      <td>價位:226.50</td>\n",
       "    </tr>\n",
       "    <tr>\n",
       "      <th>2025-08-27</th>\n",
       "      <td>漲超過-55.12%以上</td>\n",
       "      <td>價位:210.50</td>\n",
       "    </tr>\n",
       "    <tr>\n",
       "      <th>2025-08-29</th>\n",
       "      <td>漲超過-54.16%以上</td>\n",
       "      <td>價位:213.00</td>\n",
       "    </tr>\n",
       "    <tr>\n",
       "      <th>2025-09-03</th>\n",
       "      <td>漲超過-14.13%以上</td>\n",
       "      <td>價位:196.00</td>\n",
       "    </tr>\n",
       "  </tbody>\n",
       "</table>\n",
       "</div>"
      ],
      "text/plain": [
       "           target_info2(%) target_info2($)\n",
       "ts                                        \n",
       "2025-07-11      漲超過3.90%以上       價位:149.00\n",
       "2025-07-14    漲超過-20.41%以上       價位:154.00\n",
       "2025-07-15    漲超過-23.97%以上       價位:160.00\n",
       "2025-07-18     漲超過-7.46%以上       價位:161.00\n",
       "2025-07-21    漲超過-10.61%以上       價位:166.50\n",
       "2025-07-22     漲超過-6.44%以上       價位:170.00\n",
       "2025-07-23    漲超過-10.56%以上       價位:172.00\n",
       "2025-07-28    漲超過-14.59%以上       價位:169.50\n",
       "2025-08-01    漲超過-12.54%以上       價位:187.00\n",
       "2025-08-11    漲超過-13.22%以上       價位:200.00\n",
       "2025-08-13    漲超過-78.38%以上       價位:201.00\n",
       "2025-08-15    漲超過-88.93%以上       價位:212.50\n",
       "2025-08-18    漲超過-74.88%以上       價位:216.00\n",
       "2025-08-21    漲超過-90.08%以上       價位:226.50\n",
       "2025-08-27    漲超過-55.12%以上       價位:210.50\n",
       "2025-08-29    漲超過-54.16%以上       價位:213.00\n",
       "2025-09-03    漲超過-14.13%以上       價位:196.00"
      ]
     },
     "execution_count": 80,
     "metadata": {},
     "output_type": "execute_result"
    }
   ],
   "source": [
    "stock_code='3167'\n",
    "kbars=get_kbar(stock_code)\n",
    "\n",
    "df = pd.DataFrame({**kbars})\n",
    "df.ts = pd.to_datetime(df.ts)\n",
    "\n",
    "# df\n",
    "df = df.groupby(df.ts.dt.date).agg({ \"Open\": \"first\", \"High\": \"max\", \"Low\": \"min\", \"Close\": \"last\", \"Volume\": \"sum\", \"Amount\": \"sum\" })\n",
    "df.drop(columns=[\"Open\", \"High\", \"Low\", 'Amount','Volume'], inplace=True)\n",
    "df['code']=stock_code\n",
    "df['30pct'] = df['Close'].pct_change(29)\n",
    "df['60pct'] = df['Close'].pct_change(59)\n",
    "df['90pct'] = df['Close'].pct_change(89)\n",
    "\n",
    "iterm2_1 = (df['30pct'] * 100 >100) \n",
    "iterm2_2 = (df['60pct'] * 100 >130) \n",
    "iterm2_3 = (df['90pct'] * 100 >160) \n",
    "\n",
    "item2_all = (df['Close']>df[\"Close\"].shift(1))\n",
    "\n",
    "df['notice'] = (iterm2_1 | iterm2_2 | iterm2_3) & item2_all\n",
    "df['pre_punished'] = df['notice']\n",
    "\n",
    "df['target_pct2_1(%)'] = (100-df['Close'].pct_change(28)*100).where(df['pre_punished'])\n",
    "df['target_pct2_2(%)'] = (130-df['Close'].pct_change(58)*100).where(df['pre_punished'])\n",
    "df['target_pct2_3(%)'] = (160-df['Close'].pct_change(88)*100).where(df['pre_punished'])\n",
    "\n",
    "df['target_pct_2($)'] = df['Close'].where(df['pre_punished'])\n",
    "\n",
    "df['target_info2(%)'] = df.apply(\n",
    "    lambda row: '起訖漲幅一定達標' if pd.notna(row['target_pct2_1(%)']) and max(row['target_pct2_1(%)'],row['target_pct2_2(%)'],row['target_pct2_3(%)']) < -10\n",
    "                else f\"漲超過{min(row['target_pct2_1(%)'],row['target_pct2_2(%)'],row['target_pct2_3(%)']):.2f}%以上\"\n",
    "                if pd.notna(row['target_pct2_1(%)']) else None,\n",
    "    axis=1\n",
    ")\n",
    "\n",
    "df['target_info2($)'] = df.apply(\n",
    "    lambda row: f\"價位:{row['target_pct_2($)']:.2f}\"\n",
    "                if pd.notna(row['target_pct_2($)']) else None,\n",
    "    axis=1\n",
    ")\n",
    "\n",
    "# df[df[\"notice\"]]['notice']\n",
    "df[df['pre_punished']][['target_info2(%)','target_info2($)']]\n",
    "# df[df['pre_punished']]"
   ]
  },
  {
   "cell_type": "markdown",
   "id": "c09a4be8",
   "metadata": {},
   "source": [
    "# 第三款"
   ]
  },
  {
   "cell_type": "code",
   "execution_count": 4,
   "id": "30b05824",
   "metadata": {},
   "outputs": [
    {
     "data": {
      "application/vnd.microsoft.datawrangler.viewer.v0+json": {
       "columns": [
        {
         "name": "ts",
         "rawType": "object",
         "type": "unknown"
        },
        {
         "name": "target_info3(%)",
         "rawType": "object",
         "type": "string"
        },
        {
         "name": "target_info3(volume)",
         "rawType": "object",
         "type": "string"
        }
       ],
       "ref": "b446e330-2ec0-4d04-9e5b-576ed3e887cc",
       "rows": [
        [
         "2025-08-15",
         "漲超過-7.81%以上,價位:35.54",
         "量:29158.91"
        ],
        [
         "2025-08-18",
         "累積漲幅一定達標",
         "量:39128.45"
        ],
        [
         "2025-08-19",
         "累積漲幅一定達標",
         "量:46905.27"
        ]
       ],
       "shape": {
        "columns": 2,
        "rows": 3
       }
      },
      "text/html": [
       "<div>\n",
       "<style scoped>\n",
       "    .dataframe tbody tr th:only-of-type {\n",
       "        vertical-align: middle;\n",
       "    }\n",
       "\n",
       "    .dataframe tbody tr th {\n",
       "        vertical-align: top;\n",
       "    }\n",
       "\n",
       "    .dataframe thead th {\n",
       "        text-align: right;\n",
       "    }\n",
       "</style>\n",
       "<table border=\"1\" class=\"dataframe\">\n",
       "  <thead>\n",
       "    <tr style=\"text-align: right;\">\n",
       "      <th></th>\n",
       "      <th>target_info3(%)</th>\n",
       "      <th>target_info3(volume)</th>\n",
       "    </tr>\n",
       "    <tr>\n",
       "      <th>ts</th>\n",
       "      <th></th>\n",
       "      <th></th>\n",
       "    </tr>\n",
       "  </thead>\n",
       "  <tbody>\n",
       "    <tr>\n",
       "      <th>2025-08-15</th>\n",
       "      <td>漲超過-7.81%以上,價位:35.54</td>\n",
       "      <td>量:29158.91</td>\n",
       "    </tr>\n",
       "    <tr>\n",
       "      <th>2025-08-18</th>\n",
       "      <td>累積漲幅一定達標</td>\n",
       "      <td>量:39128.45</td>\n",
       "    </tr>\n",
       "    <tr>\n",
       "      <th>2025-08-19</th>\n",
       "      <td>累積漲幅一定達標</td>\n",
       "      <td>量:46905.27</td>\n",
       "    </tr>\n",
       "  </tbody>\n",
       "</table>\n",
       "</div>"
      ],
      "text/plain": [
       "                 target_info3(%) target_info3(volume)\n",
       "ts                                                   \n",
       "2025-08-15  漲超過-7.81%以上,價位:35.54           量:29158.91\n",
       "2025-08-18              累積漲幅一定達標           量:39128.45\n",
       "2025-08-19              累積漲幅一定達標           量:46905.27"
      ]
     },
     "execution_count": 4,
     "metadata": {},
     "output_type": "execute_result"
    }
   ],
   "source": [
    "stock_code='1717'\n",
    "kbars=get_kbar(stock_code)\n",
    "df = pd.DataFrame({**kbars})\n",
    "df.ts = pd.to_datetime(df.ts)\n",
    "\n",
    "df = df.groupby(df.ts.dt.date).agg({ \"Open\": \"first\", \"High\": \"max\", \"Low\": \"min\", \"Close\": \"last\", \"Volume\": \"sum\", \"Amount\": \"sum\" })\n",
    "df.drop(columns=[\"Open\", \"High\", \"Low\", 'Amount'], inplace=True)\n",
    "df['code']=stock_code\n",
    "df['pct'] = df['Close'].pct_change()\n",
    "df['6pct'] = df['pct'].rolling(6).sum()\n",
    "df['60volume'] = df['Volume'].rolling(60).mean()\n",
    "\n",
    "iterm3 = (df['6pct'] * 100 > 25) & (df['Volume'] > df['60volume'] * 5 )\n",
    "\n",
    "df['notice']= iterm3\n",
    "df['pre_punished'] = df['notice']\n",
    "\n",
    "df['target_pct3_v1(%)'] = (25-df['pct'].rolling(5).sum()*100).where(df['pre_punished'])\n",
    "\n",
    "# (59v'+v)/60 *5 < v => 59/11v' < v\n",
    "df['target_pct3_v2(volume)'] = (df['Volume'].rolling(59).sum()/11).where(df['pre_punished'])\n",
    "\n",
    "df['target_info3(%)'] = df.apply(\n",
    "    lambda row: '累積漲幅一定達標' if pd.notna(row['target_pct3_v1(%)']) and row['target_pct3_v1(%)'] < -10\n",
    "                else f\"漲超過{row['target_pct3_v1(%)']:.2f}%以上,價位:{row['Close']*(1+row['target_pct3_v1(%)']/100):.2f}\"\n",
    "                if pd.notna(row['target_pct3_v1(%)']) else None,\n",
    "    axis=1\n",
    ")\n",
    "\n",
    "df['target_info3(volume)'] = df.apply(\n",
    "    lambda row: f\"量:{row['target_pct3_v2(volume)']:.2f}\"\n",
    "                if pd.notna(row['target_pct3_v2(volume)']) else None,\n",
    "    axis=1\n",
    ")\n",
    "\n",
    "# df[df[\"notice\"]]['notice']\n",
    "df[df['pre_punished']][['target_info3(%)','target_info3(volume)']]\n",
    "# df[df['pre_punished']]"
   ]
  },
  {
   "cell_type": "markdown",
   "id": "17e0eacf",
   "metadata": {},
   "source": [
    "# 第一款~第三款(綜合)"
   ]
  },
  {
   "cell_type": "code",
   "execution_count": 24,
   "id": "99a4937d",
   "metadata": {},
   "outputs": [],
   "source": [
    "stock_code='4976'\n",
    "kbars=get_kbar(stock_code)\n"
   ]
  },
  {
   "cell_type": "code",
   "execution_count": 27,
   "id": "d1ce7f0d",
   "metadata": {},
   "outputs": [
    {
     "data": {
      "application/vnd.microsoft.datawrangler.viewer.v0+json": {
       "columns": [
        {
         "name": "ts",
         "rawType": "object",
         "type": "unknown"
        },
        {
         "name": "target_info1_1(%)",
         "rawType": "object",
         "type": "string"
        },
        {
         "name": "target_info1_2(%+N)",
         "rawType": "object",
         "type": "string"
        },
        {
         "name": "target_info2(%)",
         "rawType": "object",
         "type": "string"
        },
        {
         "name": "target_info2($)",
         "rawType": "object",
         "type": "string"
        },
        {
         "name": "target_info3(%)",
         "rawType": "object",
         "type": "string"
        },
        {
         "name": "target_info3(volume)",
         "rawType": "object",
         "type": "string"
        }
       ],
       "ref": "529d8ba8-418c-4388-a652-ce8312f3c2e4",
       "rows": [
        [
         "2025-09-04",
         "漲超過4.95%以上,價位:60.34",
         "漲超過-2.05%以上,價位:95.60",
         "漲超過-10.24%以上",
         "價位:57.50",
         "漲超過-2.05%以上,價位:56.32",
         "量:12477"
        ]
       ],
       "shape": {
        "columns": 6,
        "rows": 1
       }
      },
      "text/html": [
       "<div>\n",
       "<style scoped>\n",
       "    .dataframe tbody tr th:only-of-type {\n",
       "        vertical-align: middle;\n",
       "    }\n",
       "\n",
       "    .dataframe tbody tr th {\n",
       "        vertical-align: top;\n",
       "    }\n",
       "\n",
       "    .dataframe thead th {\n",
       "        text-align: right;\n",
       "    }\n",
       "</style>\n",
       "<table border=\"1\" class=\"dataframe\">\n",
       "  <thead>\n",
       "    <tr style=\"text-align: right;\">\n",
       "      <th></th>\n",
       "      <th>target_info1_1(%)</th>\n",
       "      <th>target_info1_2(%+N)</th>\n",
       "      <th>target_info2(%)</th>\n",
       "      <th>target_info2($)</th>\n",
       "      <th>target_info3(%)</th>\n",
       "      <th>target_info3(volume)</th>\n",
       "    </tr>\n",
       "    <tr>\n",
       "      <th>ts</th>\n",
       "      <th></th>\n",
       "      <th></th>\n",
       "      <th></th>\n",
       "      <th></th>\n",
       "      <th></th>\n",
       "      <th></th>\n",
       "    </tr>\n",
       "  </thead>\n",
       "  <tbody>\n",
       "    <tr>\n",
       "      <th>2025-09-04</th>\n",
       "      <td>漲超過4.95%以上,價位:60.34</td>\n",
       "      <td>漲超過-2.05%以上,價位:95.60</td>\n",
       "      <td>漲超過-10.24%以上</td>\n",
       "      <td>價位:57.50</td>\n",
       "      <td>漲超過-2.05%以上,價位:56.32</td>\n",
       "      <td>量:12477</td>\n",
       "    </tr>\n",
       "  </tbody>\n",
       "</table>\n",
       "</div>"
      ],
      "text/plain": [
       "              target_info1_1(%)   target_info1_2(%+N) target_info2(%)  \\\n",
       "ts                                                                      \n",
       "2025-09-04  漲超過4.95%以上,價位:60.34  漲超過-2.05%以上,價位:95.60    漲超過-10.24%以上   \n",
       "\n",
       "           target_info2($)       target_info3(%) target_info3(volume)  \n",
       "ts                                                                     \n",
       "2025-09-04        價位:57.50  漲超過-2.05%以上,價位:56.32              量:12477  "
      ]
     },
     "execution_count": 27,
     "metadata": {},
     "output_type": "execute_result"
    }
   ],
   "source": [
    "\n",
    "\n",
    "df = pd.DataFrame({**kbars})\n",
    "df.ts = pd.to_datetime(df.ts)\n",
    "# df\n",
    "df = df.groupby(df.ts.dt.date).agg({ \"Open\": \"first\", \"High\": \"max\", \"Low\": \"min\", \"Close\": \"last\", \"Volume\": \"sum\", \"Amount\": \"sum\" })\n",
    "df.drop(columns=[\"Open\", \"High\", \"Low\", 'Amount'], inplace=True)\n",
    "df['code']=stock_code\n",
    "df['pct'] = df['Close'].pct_change()\n",
    "df['6pct'] = df['pct'].rolling(6).sum()\n",
    "\n",
    "df['30pct'] = df['Close'].pct_change(29)\n",
    "df['60pct'] = df['Close'].pct_change(59)\n",
    "df['90pct'] = df['Close'].pct_change(89)\n",
    "\n",
    "df['60volume'] = df['Volume'].rolling(60).mean()\n",
    "\n",
    "##############抓取stock_info##############\n",
    "conn = sqlite3.connect(\"stock_info.db\")\n",
    "cursor = conn.cursor()\n",
    "cursor.execute(f\"\"\"\n",
    "            SELECT `type`\n",
    "            FROM taiwan_stock_info\n",
    "            WHERE `stock_id` = {stock_code}\n",
    "            \"\"\"\n",
    ")\n",
    "source = cursor.fetchone()[0] # twse or tpex\n",
    "conn.close()\n",
    "if source is None :\n",
    "    print(\"資料源不明\")\n",
    "\n",
    "############################################################第一款############################################################\n",
    "if source == \"twse\" :\n",
    "    iterm1_1_param = 32\n",
    "    iterm1_2_v1_param = 25\n",
    "    iterm1_2_v2_param = 50\n",
    "elif source == \"tpex\" :\n",
    "    iterm1_1_param = 30\n",
    "    iterm1_2_v1_param = 23\n",
    "    iterm1_2_v2_param = 40\n",
    "iterm1_1 = (df['6pct']*100 > iterm1_1_param)\n",
    "iterm1_2 = (df['6pct']*100 > iterm1_2_v1_param) & (df['Close'] - df['Close'].shift(5) >=iterm1_2_v2_param)\n",
    "############################################################第二款############################################################\n",
    "iterm2_1 = (df['30pct'] * 100 >100) \n",
    "iterm2_2 = (df['60pct'] * 100 >130) \n",
    "iterm2_3 = (df['90pct'] * 100 >160) \n",
    "item2_all = (df['Close']>df[\"Close\"].shift(1))\n",
    "############################################################第三款############################################################\n",
    "if source == \"twse\" :\n",
    "    iterm3_param = 25\n",
    "elif source == \"tpex\" :\n",
    "    iterm3_param = 27\n",
    "\n",
    "iterm3 = (df['6pct'] * 100 > iterm3_param) & (df['Volume'] > df['60volume'] * 5 )\n",
    "# ############################################################注意條件############################################################\n",
    "# df['notice_only1']= (iterm1_1 | iterm1_2) \n",
    "# df['notice_1~8']= (iterm1_1 | iterm1_2) | ((iterm2_1 | iterm2_2 | iterm2_3) & item2_all) | (iterm3)\n",
    "# ############################################################待處置條件############################################################            \n",
    "# df['pre_punished_only1'] = (df['notice_only1'].rolling(2).sum()==2) & (df['notice_only1'].rolling(3).sum()!=3) \n",
    "# df['pre_punished_1~8'] = (df['notice_1~8'].rolling(4).sum()==4) & (df['notice_1~8'].rolling(5).sum()!=5) | (df['notice_1~8'].rolling(9).sum()==5) | (df['notice_1~8'].rolling(29).sum()==11) \n",
    "############################################################進處置標準############################################################  \n",
    "####################第一款標準####################\n",
    "df['target_pct1_1(%)'] = (iterm1_1_param-df['pct'].rolling(5).sum()*100)#.where(df['pre_punished_only1'] | df['pre_punished_1~8'])\n",
    "df['target_pct1_2_v1(%)'] = (iterm1_2_v1_param-df['pct'].rolling(5).sum()*100)#.where(df['pre_punished_only1'] | df['pre_punished_1~8'])\n",
    "df['target_pct1_2_v2($)'] = (df['Close'].shift(4) + iterm1_2_v2_param)#.where(df['pre_punished_only1'] | df['pre_punished_1~8'])\n",
    "\n",
    "df['target_info1_1(%)'] = df.apply(\n",
    "    lambda row: '一定處置' if pd.notna(row['target_pct1_1(%)']) and row['target_pct1_1(%)'] < -10\n",
    "                else f\"漲超過{row['target_pct1_1(%)']:.2f}%以上,價位:{row['Close']*(1+row['target_pct1_1(%)']/100):.2f}\"\n",
    "                if pd.notna(row['target_pct1_1(%)']) else None,\n",
    "    axis=1\n",
    ")\n",
    "\n",
    "df['target_info1_2(%+N)'] = df.apply(\n",
    "    lambda row: '一定處置' if (pd.notna(row['target_pct1_2_v1(%)'])) and (row['target_pct1_2_v1(%)'] < -10) and (row['target_pct1_2_v2($)'] < row['Close']*0.9 )\n",
    "                else f\"漲超過{row['target_pct1_2_v1(%)']:.2f}%以上,價位:{max(row['target_pct1_2_v2($)'],row['Close']*(1+row['target_pct1_2_v1(%)']/100)):.2f}\"\n",
    "                if pd.notna(row['target_pct1_2_v1(%)']) else None,\n",
    "    axis=1\n",
    ")\n",
    "####################第二款標準####################\n",
    "df['target_pct2_1(%)'] = (100-df['Close'].pct_change(28)*100)#.where(df['pre_punished_1~8'])\n",
    "df['target_pct2_2(%)'] = (130-df['Close'].pct_change(58)*100)#.where(df['pre_punished_1~8'])\n",
    "df['target_pct2_3(%)'] = (160-df['Close'].pct_change(88)*100)#.where(df['pre_punished_1~8'])\n",
    "\n",
    "df['target_pct_2($)'] = df['Close']#.where(df['pre_punished_1~8'])\n",
    "\n",
    "df['target_info2(%)'] = df.apply(\n",
    "    lambda row: '起訖漲幅一定達標' if pd.notna(row['target_pct2_1(%)']) and max(row['target_pct2_1(%)'],row['target_pct2_2(%)'],row['target_pct2_3(%)']) < -10\n",
    "                else f\"漲超過{min(row['target_pct2_1(%)'],row['target_pct2_2(%)'],row['target_pct2_3(%)']):.2f}%以上\"\n",
    "                if pd.notna(row['target_pct2_1(%)']) else None,\n",
    "    axis=1\n",
    ")\n",
    "\n",
    "df['target_info2($)'] = df.apply(\n",
    "    lambda row: f\"價位:{row['target_pct_2($)']:.2f}\"\n",
    "                if pd.notna(row['target_pct_2($)']) else None,\n",
    "    axis=1\n",
    ")\n",
    "####################第三款標準####################\n",
    "df['target_pct3_v1(%)'] = (iterm3_param-df['pct'].rolling(5).sum()*100)#.where(df['pre_punished_1~8'])\n",
    "\n",
    "# (59v'+v)/60 *5 < v => 59/11v' < v\n",
    "df['target_pct3_v2(volume)'] = (df['Volume'].rolling(59).sum()/11)#.where(df['pre_punished_1~8'])\n",
    "\n",
    "df['target_info3(%)'] = df.apply(\n",
    "    lambda row: '累積漲幅一定達標' if pd.notna(row['target_pct3_v1(%)']) and row['target_pct3_v1(%)'] < -10\n",
    "                else f\"漲超過{row['target_pct3_v1(%)']:.2f}%以上,價位:{ row['Close']*(1+row['target_pct3_v1(%)']/100):.2f}\"\n",
    "                if pd.notna(row['target_pct3_v1(%)']) else None,\n",
    "    axis=1\n",
    ")\n",
    "\n",
    "df['target_info3(volume)'] = df.apply(\n",
    "    lambda row: f\"量:{int(row['target_pct3_v2(volume)'])}\"\n",
    "                if pd.notna(row['target_pct3_v2(volume)']) else None,\n",
    "    axis=1\n",
    ")\n",
    "\n",
    "# df = df[df['pre_punished_only1'] | df['pre_punished_1~8']][['pre_punished_only1','pre_punished_1~8','target_info1_1(%)','target_info1_2(%+N)','target_info2(%)','target_info2($)','target_info3(%)','target_info3(volume)']]\n",
    "df = df[['target_info1_1(%)','target_info1_2(%+N)','target_info2(%)','target_info2($)','target_info3(%)','target_info3(volume)']]\n",
    "df.tail(1)\n"
   ]
  },
  {
   "cell_type": "markdown",
   "id": "2f029044",
   "metadata": {},
   "source": [
    "# 第四款(週轉率待修)"
   ]
  },
  {
   "cell_type": "code",
   "execution_count": null,
   "id": "ea678833",
   "metadata": {},
   "outputs": [],
   "source": [
    "stock_code='1717'\n",
    "kbars=get_kbar(stock_code)\n",
    "df = pd.DataFrame({**kbars})\n",
    "df.ts = pd.to_datetime(df.ts)\n",
    "\n",
    "df = df.groupby(df.ts.dt.date).agg({ \"Open\": \"first\", \"High\": \"max\", \"Low\": \"min\", \"Close\": \"last\", \"Volume\": \"sum\", \"Amount\": \"sum\" })\n",
    "df.drop(columns=[\"Open\", \"High\", \"Low\", 'Amount'], inplace=True)\n",
    "df['code']=stock_code\n",
    "df['pct'] = df['Close'].pct_change()\n",
    "df['6pct'] = df['pct'].rolling(6).sum()\n",
    "df['60volume'] = df['Volume'].rolling(60).mean()\n",
    "\n",
    "iterm3 = (df['6pct'] * 100 > 25) & (df['Volume'] > df['60volume'] * 5 )\n",
    "\n",
    "df['notice']= iterm3\n",
    "# df['iterm1_1'] = (df['6pct']*100 > 32).rolling(2).sum() >= 2\n",
    "# df['iterm1_2'] = ((df['6pct']*100 > 25).rolling(2).sum() >= 2) & (df['Close'] - df['Close'].shift(5) >=50)\n",
    "# df['target_pct_1(%)'] = (32-df['pct'].rolling(5).sum()*100).where(df['iterm1_1'])\n",
    "# df['target_pct_2_v1(%)'] = (25-df['pct'].rolling(5).sum()*100).where(df['iterm1_2'])\n",
    "# df['target_pct_2_v2($)'] = (df['Close'].shift(5) + 50).where(df['iterm1_2'])\n",
    "# df['target_info1_1'] = df.apply(\n",
    "#     lambda row: '一定處置' if pd.notna(row['target_pct_1(%)']) and row['target_pct_1(%)'] < -10\n",
    "#                 else f\"漲超過{row['target_pct_1(%)']:.2f}%以上,價位:{row['Close']*(1+row['target_pct_1(%)']/100):.2f}\"\n",
    "#                 if pd.notna(row['target_pct_1(%)']) else None,\n",
    "#     axis=1\n",
    "# )\n",
    "\n",
    "# df['target_info1_2'] = df.apply(\n",
    "#     lambda row: '一定處置' if (pd.notna(row['target_pct_2_v1(%)'])) and (row['target_pct_2_v1(%)'] < -10) and (row['target_pct_2_v2($)'] < row['Close']*0.9 )\n",
    "#                 else f\"漲超過{row['target_pct_2_v1(%)']:.2f}%以上,價位:{max(row['target_pct_2_v2($)'],row['Close']*(1+row['target_pct_2_v1(%)']/100)):.2f}\"\n",
    "#                 if pd.notna(row['target_pct_2_v1(%)']) else None,\n",
    "#     axis=1\n",
    "# )\n",
    "# # df[['Close','6pct','iterm1_1','iterm1_2','target_pct_2_v1(%)','target_pct_2_v2($)','target_info1_1','target_info1_2']]\n",
    "# df=df[df['iterm1_1'] | df['iterm1_2']][['code','target_info1_1','target_info1_2']]\n",
    "df[df[\"notice\"]]['notice']"
   ]
  },
  {
   "cell_type": "markdown",
   "id": "b754af02",
   "metadata": {},
   "source": [
    "# 第五款(券商市占待修)"
   ]
  },
  {
   "cell_type": "code",
   "execution_count": null,
   "id": "49e57ece",
   "metadata": {},
   "outputs": [],
   "source": [
    "stock_code='1717'\n",
    "kbars=get_kbar(stock_code)\n",
    "df = pd.DataFrame({**kbars})\n",
    "df.ts = pd.to_datetime(df.ts)\n",
    "\n",
    "df = df.groupby(df.ts.dt.date).agg({ \"Open\": \"first\", \"High\": \"max\", \"Low\": \"min\", \"Close\": \"last\", \"Volume\": \"sum\", \"Amount\": \"sum\" })\n",
    "df.drop(columns=[\"Open\", \"High\", \"Low\", 'Amount'], inplace=True)\n",
    "df['code']=stock_code\n",
    "df['pct'] = df['Close'].pct_change()\n",
    "df['6pct'] = df['pct'].rolling(6).sum()\n",
    "\n",
    "iterm5 = (df['6pct'] * 100 > 25) & (df['Volume'] > 500 )\n",
    "\n",
    "df['notice']= iterm5\n",
    "# df['iterm1_1'] = (df['6pct']*100 > 32).rolling(2).sum() >= 2\n",
    "# df['iterm1_2'] = ((df['6pct']*100 > 25).rolling(2).sum() >= 2) & (df['Close'] - df['Close'].shift(5) >=50)\n",
    "# df['target_pct_1(%)'] = (32-df['pct'].rolling(5).sum()*100).where(df['iterm1_1'])\n",
    "# df['target_pct_2_v1(%)'] = (25-df['pct'].rolling(5).sum()*100).where(df['iterm1_2'])\n",
    "# df['target_pct_2_v2($)'] = (df['Close'].shift(5) + 50).where(df['iterm1_2'])\n",
    "# df['target_info1_1'] = df.apply(\n",
    "#     lambda row: '一定處置' if pd.notna(row['target_pct_1(%)']) and row['target_pct_1(%)'] < -10\n",
    "#                 else f\"漲超過{row['target_pct_1(%)']:.2f}%以上,價位:{row['Close']*(1+row['target_pct_1(%)']/100):.2f}\"\n",
    "#                 if pd.notna(row['target_pct_1(%)']) else None,\n",
    "#     axis=1\n",
    "# )\n",
    "\n",
    "# df['target_info1_2'] = df.apply(\n",
    "#     lambda row: '一定處置' if (pd.notna(row['target_pct_2_v1(%)'])) and (row['target_pct_2_v1(%)'] < -10) and (row['target_pct_2_v2($)'] < row['Close']*0.9 )\n",
    "#                 else f\"漲超過{row['target_pct_2_v1(%)']:.2f}%以上,價位:{max(row['target_pct_2_v2($)'],row['Close']*(1+row['target_pct_2_v1(%)']/100)):.2f}\"\n",
    "#                 if pd.notna(row['target_pct_2_v1(%)']) else None,\n",
    "#     axis=1\n",
    "# )\n",
    "# # df[['Close','6pct','iterm1_1','iterm1_2','target_pct_2_v1(%)','target_pct_2_v2($)','target_info1_1','target_info1_2']]\n",
    "# df=df[df['iterm1_1'] | df['iterm1_2']][['code','target_info1_1','target_info1_2']]\n",
    "df[df[\"notice\"]]['notice']"
   ]
  },
  {
   "cell_type": "markdown",
   "id": "be34b7b6",
   "metadata": {},
   "source": [
    "# 第六款(估值類待修)"
   ]
  },
  {
   "cell_type": "code",
   "execution_count": null,
   "id": "5b1e0984",
   "metadata": {},
   "outputs": [],
   "source": [
    "stock_code='1717'\n",
    "kbars=get_kbar(stock_code)\n",
    "df = pd.DataFrame({**kbars})\n",
    "df.ts = pd.to_datetime(df.ts)\n",
    "\n",
    "df = df.groupby(df.ts.dt.date).agg({ \"Open\": \"first\", \"High\": \"max\", \"Low\": \"min\", \"Close\": \"last\", \"Volume\": \"sum\", \"Amount\": \"sum\" })\n",
    "df.drop(columns=[\"Open\", \"High\", \"Low\", 'Amount'], inplace=True)\n",
    "df['code']=stock_code\n",
    "df['pct'] = df['Close'].pct_change()\n",
    "df['6pct'] = df['pct'].rolling(6).sum()\n",
    "\n",
    "iterm5 = (df['6pct'] * 100 > 25) & (df['Volume'] > 500 )\n",
    "\n",
    "df['notice']= iterm5\n",
    "# df['iterm1_1'] = (df['6pct']*100 > 32).rolling(2).sum() >= 2\n",
    "# df['iterm1_2'] = ((df['6pct']*100 > 25).rolling(2).sum() >= 2) & (df['Close'] - df['Close'].shift(5) >=50)\n",
    "# df['target_pct_1(%)'] = (32-df['pct'].rolling(5).sum()*100).where(df['iterm1_1'])\n",
    "# df['target_pct_2_v1(%)'] = (25-df['pct'].rolling(5).sum()*100).where(df['iterm1_2'])\n",
    "# df['target_pct_2_v2($)'] = (df['Close'].shift(5) + 50).where(df['iterm1_2'])\n",
    "# df['target_info1_1'] = df.apply(\n",
    "#     lambda row: '一定處置' if pd.notna(row['target_pct_1(%)']) and row['target_pct_1(%)'] < -10\n",
    "#                 else f\"漲超過{row['target_pct_1(%)']:.2f}%以上,價位:{row['Close']*(1+row['target_pct_1(%)']/100):.2f}\"\n",
    "#                 if pd.notna(row['target_pct_1(%)']) else None,\n",
    "#     axis=1\n",
    "# )\n",
    "\n",
    "# df['target_info1_2'] = df.apply(\n",
    "#     lambda row: '一定處置' if (pd.notna(row['target_pct_2_v1(%)'])) and (row['target_pct_2_v1(%)'] < -10) and (row['target_pct_2_v2($)'] < row['Close']*0.9 )\n",
    "#                 else f\"漲超過{row['target_pct_2_v1(%)']:.2f}%以上,價位:{max(row['target_pct_2_v2($)'],row['Close']*(1+row['target_pct_2_v1(%)']/100)):.2f}\"\n",
    "#                 if pd.notna(row['target_pct_2_v1(%)']) else None,\n",
    "#     axis=1\n",
    "# )\n",
    "# # df[['Close','6pct','iterm1_1','iterm1_2','target_pct_2_v1(%)','target_pct_2_v2($)','target_info1_1','target_info1_2']]\n",
    "# df=df[df['iterm1_1'] | df['iterm1_2']][['code','target_info1_1','target_info1_2']]\n",
    "df[df[\"notice\"]]['notice']"
   ]
  },
  {
   "cell_type": "markdown",
   "id": "0945891e",
   "metadata": {},
   "source": [
    "# 第七款(券資比待修)"
   ]
  },
  {
   "cell_type": "code",
   "execution_count": null,
   "id": "a12e11b6",
   "metadata": {},
   "outputs": [],
   "source": [
    "stock_code='1717'\n",
    "kbars=get_kbar(stock_code)\n",
    "df = pd.DataFrame({**kbars})\n",
    "df.ts = pd.to_datetime(df.ts)\n",
    "\n",
    "df = df.groupby(df.ts.dt.date).agg({ \"Open\": \"first\", \"High\": \"max\", \"Low\": \"min\", \"Close\": \"last\", \"Volume\": \"sum\", \"Amount\": \"sum\" })\n",
    "df.drop(columns=[\"Open\", \"High\", \"Low\", 'Amount'], inplace=True)\n",
    "df['code']=stock_code\n",
    "df['pct'] = df['Close'].pct_change()\n",
    "df['6pct'] = df['pct'].rolling(6).sum()\n",
    "\n",
    "iterm5 = (df['6pct'] * 100 > 25) & (df['Volume'] > 500 )\n",
    "\n",
    "df['notice']= iterm5\n",
    "# df['iterm1_1'] = (df['6pct']*100 > 32).rolling(2).sum() >= 2\n",
    "# df['iterm1_2'] = ((df['6pct']*100 > 25).rolling(2).sum() >= 2) & (df['Close'] - df['Close'].shift(5) >=50)\n",
    "# df['target_pct_1(%)'] = (32-df['pct'].rolling(5).sum()*100).where(df['iterm1_1'])\n",
    "# df['target_pct_2_v1(%)'] = (25-df['pct'].rolling(5).sum()*100).where(df['iterm1_2'])\n",
    "# df['target_pct_2_v2($)'] = (df['Close'].shift(5) + 50).where(df['iterm1_2'])\n",
    "# df['target_info1_1'] = df.apply(\n",
    "#     lambda row: '一定處置' if pd.notna(row['target_pct_1(%)']) and row['target_pct_1(%)'] < -10\n",
    "#                 else f\"漲超過{row['target_pct_1(%)']:.2f}%以上,價位:{row['Close']*(1+row['target_pct_1(%)']/100):.2f}\"\n",
    "#                 if pd.notna(row['target_pct_1(%)']) else None,\n",
    "#     axis=1\n",
    "# )\n",
    "\n",
    "# df['target_info1_2'] = df.apply(\n",
    "#     lambda row: '一定處置' if (pd.notna(row['target_pct_2_v1(%)'])) and (row['target_pct_2_v1(%)'] < -10) and (row['target_pct_2_v2($)'] < row['Close']*0.9 )\n",
    "#                 else f\"漲超過{row['target_pct_2_v1(%)']:.2f}%以上,價位:{max(row['target_pct_2_v2($)'],row['Close']*(1+row['target_pct_2_v1(%)']/100)):.2f}\"\n",
    "#                 if pd.notna(row['target_pct_2_v1(%)']) else None,\n",
    "#     axis=1\n",
    "# )\n",
    "# # df[['Close','6pct','iterm1_1','iterm1_2','target_pct_2_v1(%)','target_pct_2_v2($)','target_info1_1','target_info1_2']]\n",
    "# df=df[df['iterm1_1'] | df['iterm1_2']][['code','target_info1_1','target_info1_2']]\n",
    "df[df[\"notice\"]]['notice']"
   ]
  },
  {
   "cell_type": "markdown",
   "id": "e2310bbe",
   "metadata": {},
   "source": [
    "# 第八款(TDR待修)"
   ]
  },
  {
   "cell_type": "code",
   "execution_count": null,
   "id": "fb8eac13",
   "metadata": {},
   "outputs": [],
   "source": [
    "stock_code='1717'\n",
    "kbars=get_kbar(stock_code)\n",
    "df = pd.DataFrame({**kbars})\n",
    "df.ts = pd.to_datetime(df.ts)\n",
    "\n",
    "df = df.groupby(df.ts.dt.date).agg({ \"Open\": \"first\", \"High\": \"max\", \"Low\": \"min\", \"Close\": \"last\", \"Volume\": \"sum\", \"Amount\": \"sum\" })\n",
    "df.drop(columns=[\"Open\", \"High\", \"Low\", 'Amount'], inplace=True)\n",
    "df['code']=stock_code\n",
    "df['pct'] = df['Close'].pct_change()\n",
    "df['6pct'] = df['pct'].rolling(6).sum()\n",
    "\n",
    "iterm5 = (df['6pct'] * 100 > 25) & (df['Volume'] > 500 )\n",
    "\n",
    "df['notice']= iterm5\n",
    "# df['iterm1_1'] = (df['6pct']*100 > 32).rolling(2).sum() >= 2\n",
    "# df['iterm1_2'] = ((df['6pct']*100 > 25).rolling(2).sum() >= 2) & (df['Close'] - df['Close'].shift(5) >=50)\n",
    "# df['target_pct_1(%)'] = (32-df['pct'].rolling(5).sum()*100).where(df['iterm1_1'])\n",
    "# df['target_pct_2_v1(%)'] = (25-df['pct'].rolling(5).sum()*100).where(df['iterm1_2'])\n",
    "# df['target_pct_2_v2($)'] = (df['Close'].shift(5) + 50).where(df['iterm1_2'])\n",
    "# df['target_info1_1'] = df.apply(\n",
    "#     lambda row: '一定處置' if pd.notna(row['target_pct_1(%)']) and row['target_pct_1(%)'] < -10\n",
    "#                 else f\"漲超過{row['target_pct_1(%)']:.2f}%以上,價位:{row['Close']*(1+row['target_pct_1(%)']/100):.2f}\"\n",
    "#                 if pd.notna(row['target_pct_1(%)']) else None,\n",
    "#     axis=1\n",
    "# )\n",
    "\n",
    "# df['target_info1_2'] = df.apply(\n",
    "#     lambda row: '一定處置' if (pd.notna(row['target_pct_2_v1(%)'])) and (row['target_pct_2_v1(%)'] < -10) and (row['target_pct_2_v2($)'] < row['Close']*0.9 )\n",
    "#                 else f\"漲超過{row['target_pct_2_v1(%)']:.2f}%以上,價位:{max(row['target_pct_2_v2($)'],row['Close']*(1+row['target_pct_2_v1(%)']/100)):.2f}\"\n",
    "#                 if pd.notna(row['target_pct_2_v1(%)']) else None,\n",
    "#     axis=1\n",
    "# )\n",
    "# # df[['Close','6pct','iterm1_1','iterm1_2','target_pct_2_v1(%)','target_pct_2_v2($)','target_info1_1','target_info1_2']]\n",
    "# df=df[df['iterm1_1'] | df['iterm1_2']][['code','target_info1_1','target_info1_2']]\n",
    "df[df[\"notice\"]]['notice']"
   ]
  },
  {
   "cell_type": "markdown",
   "id": "4b55060f",
   "metadata": {},
   "source": [
    "# DB"
   ]
  },
  {
   "cell_type": "code",
   "execution_count": null,
   "id": "3afee3f2",
   "metadata": {},
   "outputs": [],
   "source": [
    "conn = sqlite3.connect(\"target_info.db\")\n",
    "df.to_sql(\"target_info\", conn, if_exists=\"replace\", index=True)\n",
    "conn.close()\n",
    "\n",
    "target_info= pd.read_sql(\"SELECT * FROM target_info\", sqlite3.connect(\"target_info.db\"))\n",
    "target_info"
   ]
  },
  {
   "cell_type": "markdown",
   "id": "1a542a54",
   "metadata": {},
   "source": [
    "# "
   ]
  },
  {
   "cell_type": "code",
   "execution_count": 6,
   "id": "f115ef8c",
   "metadata": {},
   "outputs": [
    {
     "data": {
      "text/plain": [
       "1"
      ]
     },
     "execution_count": 6,
     "metadata": {},
     "output_type": "execute_result"
    }
   ],
   "source": [
    "from datetime import datetime\n",
    "datetime.now().weekday()"
   ]
  }
 ],
 "metadata": {
  "kernelspec": {
   "display_name": "Python 3",
   "language": "python",
   "name": "python3"
  },
  "language_info": {
   "codemirror_mode": {
    "name": "ipython",
    "version": 3
   },
   "file_extension": ".py",
   "mimetype": "text/x-python",
   "name": "python",
   "nbconvert_exporter": "python",
   "pygments_lexer": "ipython3",
   "version": "3.11.9"
  }
 },
 "nbformat": 4,
 "nbformat_minor": 5
}
